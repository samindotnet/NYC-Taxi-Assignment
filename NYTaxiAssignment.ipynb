{
 "cells": [
  {
   "cell_type": "markdown",
   "id": "c053c4f7",
   "metadata": {},
   "source": [
    "# Shayan Amin"
   ]
  },
  {
   "cell_type": "markdown",
   "id": "0247cbee-ab0a-473c-bd2c-19604d0d75bb",
   "metadata": {},
   "source": [
    "# Assignment 1: NYC Taxi Fare Analysis"
   ]
  },
  {
   "cell_type": "code",
   "execution_count": null,
   "id": "789c85b3",
   "metadata": {},
   "outputs": [],
   "source": []
  },
  {
   "cell_type": "code",
   "execution_count": 17,
   "id": "1b34de4b",
   "metadata": {
    "tags": []
   },
   "outputs": [],
   "source": [
    "import pandas as pd\n",
    "import numpy as np\n",
    "import matplotlib.pyplot as plt\n",
    "%matplotlib inline"
   ]
  },
  {
   "cell_type": "code",
   "execution_count": 18,
   "id": "ea0164af",
   "metadata": {
    "tags": []
   },
   "outputs": [],
   "source": [
    "filename_data = 'data/nyc_fare.csv'"
   ]
  },
  {
   "cell_type": "code",
   "execution_count": 19,
   "id": "c5ab8b9b",
   "metadata": {
    "tags": []
   },
   "outputs": [],
   "source": [
    "data = pd.read_csv(filename_data, parse_dates = ['pickup_datetime'])"
   ]
  },
  {
   "cell_type": "code",
   "execution_count": 68,
   "id": "d4de9fe6",
   "metadata": {
    "tags": []
   },
   "outputs": [
    {
     "data": {
      "text/html": [
       "<div>\n",
       "<style scoped>\n",
       "    .dataframe tbody tr th:only-of-type {\n",
       "        vertical-align: middle;\n",
       "    }\n",
       "\n",
       "    .dataframe tbody tr th {\n",
       "        vertical-align: top;\n",
       "    }\n",
       "\n",
       "    .dataframe thead th {\n",
       "        text-align: right;\n",
       "    }\n",
       "</style>\n",
       "<table border=\"1\" class=\"dataframe\">\n",
       "  <thead>\n",
       "    <tr style=\"text-align: right;\">\n",
       "      <th></th>\n",
       "      <th>medallion</th>\n",
       "      <th>hack_license</th>\n",
       "      <th>vendor_id</th>\n",
       "      <th>pickup_datetime</th>\n",
       "      <th>payment_type</th>\n",
       "      <th>fare_amount</th>\n",
       "      <th>surcharge</th>\n",
       "      <th>mta_tax</th>\n",
       "      <th>tip_amount</th>\n",
       "      <th>tolls_amount</th>\n",
       "      <th>total_amount</th>\n",
       "    </tr>\n",
       "  </thead>\n",
       "  <tbody>\n",
       "    <tr>\n",
       "      <th>0</th>\n",
       "      <td>76942C3205E17D7E7FE5A9F709D16434</td>\n",
       "      <td>25BA06A87905667AA1FE5990E33F0E2E</td>\n",
       "      <td>VTS</td>\n",
       "      <td>2013-01-01 00:00:00</td>\n",
       "      <td>CSH</td>\n",
       "      <td>5.0</td>\n",
       "      <td>0.5</td>\n",
       "      <td>0.5</td>\n",
       "      <td>0.0</td>\n",
       "      <td>0.0</td>\n",
       "      <td>6.0</td>\n",
       "    </tr>\n",
       "    <tr>\n",
       "      <th>1</th>\n",
       "      <td>517C6B330DBB3F055D007B07512628B3</td>\n",
       "      <td>2C19FBEE1A6E05612EFE4C958C14BC7F</td>\n",
       "      <td>VTS</td>\n",
       "      <td>2013-01-01 00:05:00</td>\n",
       "      <td>CRD</td>\n",
       "      <td>13.5</td>\n",
       "      <td>0.5</td>\n",
       "      <td>0.5</td>\n",
       "      <td>2.8</td>\n",
       "      <td>0.0</td>\n",
       "      <td>17.3</td>\n",
       "    </tr>\n",
       "    <tr>\n",
       "      <th>2</th>\n",
       "      <td>ED15611F168E41B33619C83D900FE266</td>\n",
       "      <td>754AEBD7C80DA17BA1D81D89FB6F4D1D</td>\n",
       "      <td>CMT</td>\n",
       "      <td>2013-01-01 00:05:52</td>\n",
       "      <td>CSH</td>\n",
       "      <td>7.5</td>\n",
       "      <td>0.5</td>\n",
       "      <td>0.5</td>\n",
       "      <td>0.0</td>\n",
       "      <td>0.0</td>\n",
       "      <td>8.5</td>\n",
       "    </tr>\n",
       "    <tr>\n",
       "      <th>3</th>\n",
       "      <td>B33E704CC189E80C9671230C16527BBC</td>\n",
       "      <td>6789C77E1CBDC850C450D72204702976</td>\n",
       "      <td>VTS</td>\n",
       "      <td>2013-01-01 00:06:00</td>\n",
       "      <td>CSH</td>\n",
       "      <td>2.5</td>\n",
       "      <td>0.5</td>\n",
       "      <td>0.5</td>\n",
       "      <td>0.0</td>\n",
       "      <td>0.0</td>\n",
       "      <td>3.5</td>\n",
       "    </tr>\n",
       "    <tr>\n",
       "      <th>4</th>\n",
       "      <td>BD5CC6A22D05EB2D5C8235526A2A4276</td>\n",
       "      <td>5E8F2C93B5220A922699FEBAFC2F7A54</td>\n",
       "      <td>VTS</td>\n",
       "      <td>2013-01-01 00:06:00</td>\n",
       "      <td>CSH</td>\n",
       "      <td>6.5</td>\n",
       "      <td>0.5</td>\n",
       "      <td>0.5</td>\n",
       "      <td>0.0</td>\n",
       "      <td>0.0</td>\n",
       "      <td>7.5</td>\n",
       "    </tr>\n",
       "    <tr>\n",
       "      <th>...</th>\n",
       "      <td>...</td>\n",
       "      <td>...</td>\n",
       "      <td>...</td>\n",
       "      <td>...</td>\n",
       "      <td>...</td>\n",
       "      <td>...</td>\n",
       "      <td>...</td>\n",
       "      <td>...</td>\n",
       "      <td>...</td>\n",
       "      <td>...</td>\n",
       "      <td>...</td>\n",
       "    </tr>\n",
       "    <tr>\n",
       "      <th>846940</th>\n",
       "      <td>9F29B1D177C67F2731E69EAA85D49367</td>\n",
       "      <td>5500334F780132AC7D883F01F869212E</td>\n",
       "      <td>CMT</td>\n",
       "      <td>2013-12-31 23:51:41</td>\n",
       "      <td>CRD</td>\n",
       "      <td>7.0</td>\n",
       "      <td>0.5</td>\n",
       "      <td>0.5</td>\n",
       "      <td>1.6</td>\n",
       "      <td>0.0</td>\n",
       "      <td>9.6</td>\n",
       "    </tr>\n",
       "    <tr>\n",
       "      <th>846941</th>\n",
       "      <td>C76AB9E3B27A5CC4F7087CFB109F51AE</td>\n",
       "      <td>6B8BA824723DE0DAB63B980B1DC843CE</td>\n",
       "      <td>CMT</td>\n",
       "      <td>2013-12-31 23:54:00</td>\n",
       "      <td>CSH</td>\n",
       "      <td>28.0</td>\n",
       "      <td>0.5</td>\n",
       "      <td>0.5</td>\n",
       "      <td>0.0</td>\n",
       "      <td>0.0</td>\n",
       "      <td>29.0</td>\n",
       "    </tr>\n",
       "    <tr>\n",
       "      <th>846942</th>\n",
       "      <td>D87EB3AD2ED303B3D92E37D871B2C2E9</td>\n",
       "      <td>F578F0435B49B3D7B9A7AAFC663A82CD</td>\n",
       "      <td>VTS</td>\n",
       "      <td>2013-12-31 23:59:00</td>\n",
       "      <td>CSH</td>\n",
       "      <td>8.5</td>\n",
       "      <td>0.5</td>\n",
       "      <td>0.5</td>\n",
       "      <td>0.0</td>\n",
       "      <td>0.0</td>\n",
       "      <td>9.5</td>\n",
       "    </tr>\n",
       "    <tr>\n",
       "      <th>846943</th>\n",
       "      <td>F74743D90F84644B1FA4576F4A82A8A3</td>\n",
       "      <td>537121DB04EC62BADFA44D8F03755A64</td>\n",
       "      <td>VTS</td>\n",
       "      <td>2013-12-31 23:59:00</td>\n",
       "      <td>CRD</td>\n",
       "      <td>7.5</td>\n",
       "      <td>0.5</td>\n",
       "      <td>0.5</td>\n",
       "      <td>1.0</td>\n",
       "      <td>0.0</td>\n",
       "      <td>9.5</td>\n",
       "    </tr>\n",
       "    <tr>\n",
       "      <th>846944</th>\n",
       "      <td>E5DCEBA68A6094576B10AFC609C61E29</td>\n",
       "      <td>735F78FA4CB06B5CB7122FF31822F68E</td>\n",
       "      <td>CMT</td>\n",
       "      <td>2013-12-31 23:59:24</td>\n",
       "      <td>CSH</td>\n",
       "      <td>19.0</td>\n",
       "      <td>0.5</td>\n",
       "      <td>0.5</td>\n",
       "      <td>0.0</td>\n",
       "      <td>0.0</td>\n",
       "      <td>20.0</td>\n",
       "    </tr>\n",
       "  </tbody>\n",
       "</table>\n",
       "<p>846945 rows × 11 columns</p>\n",
       "</div>"
      ],
      "text/plain": [
       "                               medallion                      hack_license  \\\n",
       "0       76942C3205E17D7E7FE5A9F709D16434  25BA06A87905667AA1FE5990E33F0E2E   \n",
       "1       517C6B330DBB3F055D007B07512628B3  2C19FBEE1A6E05612EFE4C958C14BC7F   \n",
       "2       ED15611F168E41B33619C83D900FE266  754AEBD7C80DA17BA1D81D89FB6F4D1D   \n",
       "3       B33E704CC189E80C9671230C16527BBC  6789C77E1CBDC850C450D72204702976   \n",
       "4       BD5CC6A22D05EB2D5C8235526A2A4276  5E8F2C93B5220A922699FEBAFC2F7A54   \n",
       "...                                  ...                               ...   \n",
       "846940  9F29B1D177C67F2731E69EAA85D49367  5500334F780132AC7D883F01F869212E   \n",
       "846941  C76AB9E3B27A5CC4F7087CFB109F51AE  6B8BA824723DE0DAB63B980B1DC843CE   \n",
       "846942  D87EB3AD2ED303B3D92E37D871B2C2E9  F578F0435B49B3D7B9A7AAFC663A82CD   \n",
       "846943  F74743D90F84644B1FA4576F4A82A8A3  537121DB04EC62BADFA44D8F03755A64   \n",
       "846944  E5DCEBA68A6094576B10AFC609C61E29  735F78FA4CB06B5CB7122FF31822F68E   \n",
       "\n",
       "       vendor_id     pickup_datetime payment_type  fare_amount  surcharge  \\\n",
       "0            VTS 2013-01-01 00:00:00          CSH          5.0        0.5   \n",
       "1            VTS 2013-01-01 00:05:00          CRD         13.5        0.5   \n",
       "2            CMT 2013-01-01 00:05:52          CSH          7.5        0.5   \n",
       "3            VTS 2013-01-01 00:06:00          CSH          2.5        0.5   \n",
       "4            VTS 2013-01-01 00:06:00          CSH          6.5        0.5   \n",
       "...          ...                 ...          ...          ...        ...   \n",
       "846940       CMT 2013-12-31 23:51:41          CRD          7.0        0.5   \n",
       "846941       CMT 2013-12-31 23:54:00          CSH         28.0        0.5   \n",
       "846942       VTS 2013-12-31 23:59:00          CSH          8.5        0.5   \n",
       "846943       VTS 2013-12-31 23:59:00          CRD          7.5        0.5   \n",
       "846944       CMT 2013-12-31 23:59:24          CSH         19.0        0.5   \n",
       "\n",
       "        mta_tax  tip_amount  tolls_amount  total_amount  \n",
       "0           0.5         0.0           0.0           6.0  \n",
       "1           0.5         2.8           0.0          17.3  \n",
       "2           0.5         0.0           0.0           8.5  \n",
       "3           0.5         0.0           0.0           3.5  \n",
       "4           0.5         0.0           0.0           7.5  \n",
       "...         ...         ...           ...           ...  \n",
       "846940      0.5         1.6           0.0           9.6  \n",
       "846941      0.5         0.0           0.0          29.0  \n",
       "846942      0.5         0.0           0.0           9.5  \n",
       "846943      0.5         1.0           0.0           9.5  \n",
       "846944      0.5         0.0           0.0          20.0  \n",
       "\n",
       "[846945 rows x 11 columns]"
      ]
     },
     "execution_count": 68,
     "metadata": {},
     "output_type": "execute_result"
    }
   ],
   "source": [
    "data.head(len(data))"
   ]
  },
  {
   "cell_type": "code",
   "execution_count": 70,
   "id": "0312c394-659a-4cae-9049-e9f1a80905c1",
   "metadata": {
    "tags": []
   },
   "outputs": [
    {
     "data": {
      "text/plain": [
       "620.01"
      ]
     },
     "execution_count": 70,
     "metadata": {},
     "output_type": "execute_result"
    }
   ],
   "source": [
    "data.fare_amount.max()"
   ]
  },
  {
   "cell_type": "code",
   "execution_count": 56,
   "id": "2a1f7f98-f0cb-4831-8766-1e60ae53bd18",
   "metadata": {
    "tags": []
   },
   "outputs": [
    {
     "data": {
      "text/plain": [
       "Index(['medallion', 'hack_license', 'vendor_id', 'pickup_datetime',\n",
       "       'payment_type', 'fare_amount', 'surcharge', 'mta_tax', 'tip_amount',\n",
       "       'tolls_amount', 'total_amount'],\n",
       "      dtype='object')"
      ]
     },
     "execution_count": 56,
     "metadata": {},
     "output_type": "execute_result"
    }
   ],
   "source": [
    "data.columns"
   ]
  },
  {
   "cell_type": "code",
   "execution_count": 21,
   "id": "42ff8827",
   "metadata": {
    "tags": []
   },
   "outputs": [
    {
     "data": {
      "text/html": [
       "<div>\n",
       "<style scoped>\n",
       "    .dataframe tbody tr th:only-of-type {\n",
       "        vertical-align: middle;\n",
       "    }\n",
       "\n",
       "    .dataframe tbody tr th {\n",
       "        vertical-align: top;\n",
       "    }\n",
       "\n",
       "    .dataframe thead th {\n",
       "        text-align: right;\n",
       "    }\n",
       "</style>\n",
       "<table border=\"1\" class=\"dataframe\">\n",
       "  <thead>\n",
       "    <tr style=\"text-align: right;\">\n",
       "      <th></th>\n",
       "      <th>fare_amount</th>\n",
       "      <th>surcharge</th>\n",
       "      <th>mta_tax</th>\n",
       "      <th>tip_amount</th>\n",
       "      <th>tolls_amount</th>\n",
       "      <th>total_amount</th>\n",
       "    </tr>\n",
       "  </thead>\n",
       "  <tbody>\n",
       "    <tr>\n",
       "      <th>count</th>\n",
       "      <td>846945.000000</td>\n",
       "      <td>846945.000000</td>\n",
       "      <td>846945.000000</td>\n",
       "      <td>846945.00000</td>\n",
       "      <td>846945.000000</td>\n",
       "      <td>846945.000000</td>\n",
       "    </tr>\n",
       "    <tr>\n",
       "      <th>mean</th>\n",
       "      <td>12.190578</td>\n",
       "      <td>0.320303</td>\n",
       "      <td>0.499305</td>\n",
       "      <td>1.34466</td>\n",
       "      <td>0.232142</td>\n",
       "      <td>14.587073</td>\n",
       "    </tr>\n",
       "    <tr>\n",
       "      <th>std</th>\n",
       "      <td>9.514150</td>\n",
       "      <td>0.772642</td>\n",
       "      <td>0.057844</td>\n",
       "      <td>2.09149</td>\n",
       "      <td>1.109164</td>\n",
       "      <td>11.380950</td>\n",
       "    </tr>\n",
       "    <tr>\n",
       "      <th>min</th>\n",
       "      <td>-648.420000</td>\n",
       "      <td>-1.000000</td>\n",
       "      <td>-0.500000</td>\n",
       "      <td>0.00000</td>\n",
       "      <td>0.000000</td>\n",
       "      <td>-52.500000</td>\n",
       "    </tr>\n",
       "    <tr>\n",
       "      <th>25%</th>\n",
       "      <td>6.500000</td>\n",
       "      <td>0.000000</td>\n",
       "      <td>0.500000</td>\n",
       "      <td>0.00000</td>\n",
       "      <td>0.000000</td>\n",
       "      <td>8.000000</td>\n",
       "    </tr>\n",
       "    <tr>\n",
       "      <th>50%</th>\n",
       "      <td>9.500000</td>\n",
       "      <td>0.000000</td>\n",
       "      <td>0.500000</td>\n",
       "      <td>1.00000</td>\n",
       "      <td>0.000000</td>\n",
       "      <td>11.000000</td>\n",
       "    </tr>\n",
       "    <tr>\n",
       "      <th>75%</th>\n",
       "      <td>14.000000</td>\n",
       "      <td>0.500000</td>\n",
       "      <td>0.500000</td>\n",
       "      <td>2.00000</td>\n",
       "      <td>0.000000</td>\n",
       "      <td>16.500000</td>\n",
       "    </tr>\n",
       "    <tr>\n",
       "      <th>max</th>\n",
       "      <td>620.010000</td>\n",
       "      <td>628.840000</td>\n",
       "      <td>41.490000</td>\n",
       "      <td>200.00000</td>\n",
       "      <td>100.660000</td>\n",
       "      <td>620.010000</td>\n",
       "    </tr>\n",
       "  </tbody>\n",
       "</table>\n",
       "</div>"
      ],
      "text/plain": [
       "         fare_amount      surcharge        mta_tax    tip_amount  \\\n",
       "count  846945.000000  846945.000000  846945.000000  846945.00000   \n",
       "mean       12.190578       0.320303       0.499305       1.34466   \n",
       "std         9.514150       0.772642       0.057844       2.09149   \n",
       "min      -648.420000      -1.000000      -0.500000       0.00000   \n",
       "25%         6.500000       0.000000       0.500000       0.00000   \n",
       "50%         9.500000       0.000000       0.500000       1.00000   \n",
       "75%        14.000000       0.500000       0.500000       2.00000   \n",
       "max       620.010000     628.840000      41.490000     200.00000   \n",
       "\n",
       "        tolls_amount   total_amount  \n",
       "count  846945.000000  846945.000000  \n",
       "mean        0.232142      14.587073  \n",
       "std         1.109164      11.380950  \n",
       "min         0.000000     -52.500000  \n",
       "25%         0.000000       8.000000  \n",
       "50%         0.000000      11.000000  \n",
       "75%         0.000000      16.500000  \n",
       "max       100.660000     620.010000  "
      ]
     },
     "execution_count": 21,
     "metadata": {},
     "output_type": "execute_result"
    }
   ],
   "source": [
    "data.describe()"
   ]
  },
  {
   "cell_type": "code",
   "execution_count": 22,
   "id": "c50db93c-0a51-43a5-93ae-63fc1a637759",
   "metadata": {
    "tags": []
   },
   "outputs": [
    {
     "data": {
      "text/plain": [
       "0     5.0\n",
       "1    13.5\n",
       "2     7.5\n",
       "3     2.5\n",
       "4     6.5\n",
       "Name: fare_amount, dtype: float64"
      ]
     },
     "execution_count": 22,
     "metadata": {},
     "output_type": "execute_result"
    }
   ],
   "source": [
    "p_fare = data.fare_amount\n",
    "p_fare.head()"
   ]
  },
  {
   "cell_type": "code",
   "execution_count": 23,
   "id": "86d97302-0d1a-4328-a109-18437ed99cbf",
   "metadata": {
    "tags": []
   },
   "outputs": [],
   "source": [
    "p_tamt = data.tip_amount        "
   ]
  },
  {
   "cell_type": "code",
   "execution_count": 24,
   "id": "6f293afd-e2e4-4d43-84f8-e3ad0a2df39e",
   "metadata": {
    "tags": []
   },
   "outputs": [
    {
     "data": {
      "text/plain": [
       "0    0.0\n",
       "1    2.8\n",
       "2    0.0\n",
       "3    0.0\n",
       "4    0.0\n",
       "Name: tip_amount, dtype: float64"
      ]
     },
     "execution_count": 24,
     "metadata": {},
     "output_type": "execute_result"
    }
   ],
   "source": [
    "p_tamt.head()"
   ]
  },
  {
   "cell_type": "code",
   "execution_count": 63,
   "id": "131eee89-132d-4ca6-9052-1554a122990e",
   "metadata": {
    "tags": []
   },
   "outputs": [],
   "source": [
    "def tip_fare_pxl(tip, fare):\n",
    "    tip_rad = (tip *np.pi)/180.0\n",
    "    tip_rad = np.log(np.tan((tip_rad+np.pi/2.0)/2.0))\n",
    "    x = 100*(fare + 180.0)/360.0\n",
    "    y = 100*(tip_rad - np.pi) / (2.0 * np.pi)\n",
    "    return (x,y)"
   ]
  },
  {
   "cell_type": "code",
   "execution_count": 64,
   "id": "5913ea51-743d-4fa0-afe3-2cc9619227dc",
   "metadata": {
    "tags": []
   },
   "outputs": [
    {
     "data": {
      "text/plain": [
       "pandas.core.series.Series"
      ]
     },
     "execution_count": 64,
     "metadata": {},
     "output_type": "execute_result"
    }
   ],
   "source": [
    "pa, pb = tip_fare_pxl(p_tamt,p_fare)\n",
    "type(pb)"
   ]
  },
  {
   "cell_type": "code",
   "execution_count": 65,
   "id": "7fbe87cc-3660-420f-a9e9-5491beecba94",
   "metadata": {
    "tags": []
   },
   "outputs": [
    {
     "data": {
      "text/plain": [
       "<matplotlib.collections.PathCollection at 0x13898e990>"
      ]
     },
     "execution_count": 65,
     "metadata": {},
     "output_type": "execute_result"
    },
    {
     "data": {
      "image/png": "[encoded data removed]",
      "text/plain": [
       "<Figure size 640x480 with 1 Axes>"
      ]
     },
     "metadata": {},
     "output_type": "display_data"
    }
   ],
   "source": [
    "plt.scatter(pa,pb)"
   ]
  },
  {
   "cell_type": "markdown",
   "id": "8d7fe3ff-a22d-4c73-bb50-9d656cc6218d",
   "metadata": {
    "tags": []
   },
   "source": [
    "### The fare amounts that drivers receive are ranging from 2.50 to 7.50 and those don't include the tip.\n",
    "### However the fare amount that a driver receives of 13.50  along with a tip of $2.80 is an outlier."
   ]
  },
  {
   "cell_type": "code",
   "execution_count": 28,
   "id": "c1c3fa06-c38f-48bd-a96e-4f39956ef483",
   "metadata": {
    "tags": []
   },
   "outputs": [
    {
     "data": {
      "text/plain": [
       "846945"
      ]
     },
     "execution_count": 28,
     "metadata": {},
     "output_type": "execute_result"
    }
   ],
   "source": [
    "len(data)"
   ]
  },
  {
   "cell_type": "code",
   "execution_count": 29,
   "id": "4b7237a5-8336-4968-8021-699e0878840e",
   "metadata": {
    "tags": []
   },
   "outputs": [
    {
     "data": {
      "text/plain": [
       "-648.42"
      ]
     },
     "execution_count": 29,
     "metadata": {},
     "output_type": "execute_result"
    }
   ],
   "source": [
    "data.fare_amount.min()"
   ]
  },
  {
   "cell_type": "code",
   "execution_count": 30,
   "id": "a4cfda90-7145-43d5-b2d0-c35c8502d111",
   "metadata": {
    "tags": []
   },
   "outputs": [
    {
     "data": {
      "text/plain": [
       "620.01"
      ]
     },
     "execution_count": 30,
     "metadata": {},
     "output_type": "execute_result"
    }
   ],
   "source": [
    "data.fare_amount.max()"
   ]
  },
  {
   "cell_type": "code",
   "execution_count": 90,
   "id": "f5fa7f0e-c2ff-40a0-8ac3-4a40e7b9517f",
   "metadata": {
    "tags": []
   },
   "outputs": [],
   "source": [
    "fare_arr = np.linspace(start = 0., stop = 620.01, num = 20)"
   ]
  },
  {
   "cell_type": "code",
   "execution_count": 98,
   "id": "646ba828-6cd2-4958-8701-6c1e8b88fa26",
   "metadata": {
    "tags": []
   },
   "outputs": [
    {
     "data": {
      "text/plain": [
       "array([  0.,  33.,  65.,  98., 131., 163., 196., 228., 261., 294., 326.,\n",
       "       359., 392., 424., 457., 489., 522., 555., 587., 620.])"
      ]
     },
     "execution_count": 98,
     "metadata": {},
     "output_type": "execute_result"
    }
   ],
   "source": [
    "fare_arr.round()"
   ]
  },
  {
   "cell_type": "code",
   "execution_count": 97,
   "id": "b34f9b0b-7b2e-4390-a4c0-523af2315a6d",
   "metadata": {
    "tags": []
   },
   "outputs": [
    {
     "data": {
      "text/plain": [
       "<Axes: >"
      ]
     },
     "execution_count": 97,
     "metadata": {},
     "output_type": "execute_result"
    },
    {
     "data": {
      "image/png": "[encoded data removed]",
      "text/plain": [
       "<Figure size 640x480 with 1 Axes>"
      ]
     },
     "metadata": {},
     "output_type": "display_data"
    }
   ],
   "source": [
    "data.fare_amount.hist(bins = fare_arr)"
   ]
  },
  {
   "cell_type": "code",
   "execution_count": 34,
   "id": "24882c70-8d98-4bf2-8899-51af10e3e939",
   "metadata": {
    "tags": []
   },
   "outputs": [
    {
     "data": {
      "text/plain": [
       "0     5.0\n",
       "1    13.5\n",
       "2     7.5\n",
       "3     2.5\n",
       "4     6.5\n",
       "Name: fare_amount, dtype: float64"
      ]
     },
     "execution_count": 34,
     "metadata": {},
     "output_type": "execute_result"
    }
   ],
   "source": [
    "data.fare_amount.head()"
   ]
  },
  {
   "cell_type": "markdown",
   "id": "e7f794b4-67a2-4149-9509-5ca0c265362c",
   "metadata": {
    "tags": []
   },
   "source": [
    "### Most fares fall under the range of 620 dollars. the most common fare price is 33 dollars."
   ]
  },
  {
   "cell_type": "code",
   "execution_count": 89,
   "id": "f62f7c00-3d8e-47ea-b602-53174a4f50db",
   "metadata": {
    "tags": []
   },
   "outputs": [
    {
     "data": {
      "text/html": [
       "<div>\n",
       "<style scoped>\n",
       "    .dataframe tbody tr th:only-of-type {\n",
       "        vertical-align: middle;\n",
       "    }\n",
       "\n",
       "    .dataframe tbody tr th {\n",
       "        vertical-align: top;\n",
       "    }\n",
       "\n",
       "    .dataframe thead th {\n",
       "        text-align: right;\n",
       "    }\n",
       "</style>\n",
       "<table border=\"1\" class=\"dataframe\">\n",
       "  <thead>\n",
       "    <tr style=\"text-align: right;\">\n",
       "      <th></th>\n",
       "      <th>medallion</th>\n",
       "      <th>hack_license</th>\n",
       "      <th>vendor_id</th>\n",
       "      <th>pickup_datetime</th>\n",
       "      <th>payment_type</th>\n",
       "      <th>fare_amount</th>\n",
       "      <th>surcharge</th>\n",
       "      <th>mta_tax</th>\n",
       "      <th>tip_amount</th>\n",
       "      <th>tolls_amount</th>\n",
       "      <th>total_amount</th>\n",
       "    </tr>\n",
       "  </thead>\n",
       "  <tbody>\n",
       "    <tr>\n",
       "      <th>540759</th>\n",
       "      <td>AC7A85219867AB060609BA214C124969</td>\n",
       "      <td>8FB6EB354A3D5986F098EEC2642D1340</td>\n",
       "      <td>CMT</td>\n",
       "      <td>2013-08-21 00:11:07</td>\n",
       "      <td>DIS</td>\n",
       "      <td>620.01</td>\n",
       "      <td>0.0</td>\n",
       "      <td>0.0</td>\n",
       "      <td>0.0</td>\n",
       "      <td>0.0</td>\n",
       "      <td>620.01</td>\n",
       "    </tr>\n",
       "  </tbody>\n",
       "</table>\n",
       "</div>"
      ],
      "text/plain": [
       "                               medallion                      hack_license  \\\n",
       "540759  AC7A85219867AB060609BA214C124969  8FB6EB354A3D5986F098EEC2642D1340   \n",
       "\n",
       "       vendor_id     pickup_datetime payment_type  fare_amount  surcharge  \\\n",
       "540759       CMT 2013-08-21 00:11:07          DIS       620.01        0.0   \n",
       "\n",
       "        mta_tax  tip_amount  tolls_amount  total_amount  \n",
       "540759      0.0         0.0           0.0        620.01  "
      ]
     },
     "execution_count": 89,
     "metadata": {},
     "output_type": "execute_result"
    }
   ],
   "source": [
    "data.loc[data.fare_amount > 500]"
   ]
  },
  {
   "cell_type": "code",
   "execution_count": 105,
   "id": "a673d18d-30b9-4830-8508-e72fc0c3df37",
   "metadata": {
    "tags": []
   },
   "outputs": [
    {
     "data": {
      "application/vnd.jupyter.widget-view+json": {
       "model_id": "c1642c92eaea499cb425e73cffff4c81",
       "version_major": 2,
       "version_minor": 0
      },
      "text/plain": [
       "interactive(children=(IntSlider(value=50, description='trip_lim'), Output()), _dom_classes=('widget-interact',…"
      ]
     },
     "metadata": {},
     "output_type": "display_data"
    }
   ],
   "source": [
    "from ipywidgets import interact\n",
    "@interact\n",
    "def show_tip_rcrds(trip_lim = (0, 100)):\n",
    "    return len(data.loc[data.tip_amount > trip_lim])"
   ]
  },
  {
   "cell_type": "markdown",
   "id": "4dd0f209-b903-4f13-9fd7-2736b1344109",
   "metadata": {},
   "source": [
    "### There are 4 trips in where the tip amount is greater than 100 dollars."
   ]
  },
  {
   "cell_type": "code",
   "execution_count": null,
   "id": "0721387e-6941-40b1-ad47-7909b2044b86",
   "metadata": {},
   "outputs": [],
   "source": []
  }
 ],
 "metadata": {
  "kernelspec": {
   "display_name": "Python 3 (ipykernel)",
   "language": "python",
   "name": "python3"
  },
  "language_info": {
   "codemirror_mode": {
    "name": "ipython",
    "version": 3
   },
   "file_extension": ".py",
   "mimetype": "text/x-python",
   "name": "python",
   "nbconvert_exporter": "python",
   "pygments_lexer": "ipython3",
   "version": "3.11.4"
  }
 },
 "nbformat": 4,
 "nbformat_minor": 5
}
